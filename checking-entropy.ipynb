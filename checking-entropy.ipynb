{
 "cells": [
  {
   "cell_type": "markdown",
   "metadata": {},
   "source": [
    "### Import libraries"
   ]
  },
  {
   "cell_type": "code",
   "execution_count": 29,
   "metadata": {},
   "outputs": [],
   "source": [
    "import os\n",
    "import sys\n",
    "from random import shuffle"
   ]
  },
  {
   "cell_type": "markdown",
   "metadata": {},
   "source": [
    "### Utilities functions"
   ]
  },
  {
   "cell_type": "code",
   "execution_count": 22,
   "metadata": {},
   "outputs": [],
   "source": [
    "def random_split(input_file_dir, fold_num, suffix):\n",
    "    print(\"Random split.\")\n",
    "    files_list = []\n",
    "    file_dir = os.path.join(input_file_dir, 'files')\n",
    "    for file in os.listdir(file_dir):\n",
    "        if file.endswith(suffix):\n",
    "            files_list.append((int(file[:file.find('.')]), os.path.join(file_dir, file)))\n",
    "\n",
    "\n",
    "    files_list.sort()\n",
    "    files_list = [file for id, file in files_list]\n",
    "    shuffle(files_list)\n",
    "    \n",
    "    files_number = len(files_list)\n",
    "\n",
    "    part_files_number = files_number / fold_num\n",
    "    left_files_number = files_number % fold_num\n",
    "\n",
    "    part_files_list = []\n",
    "\n",
    "    # multi-process\n",
    "    last_end = 0\n",
    "    for i in range(fold_num):\n",
    "        start = last_end\n",
    "        last_end = start + part_files_number\n",
    "        if i < left_files_number:\n",
    "            last_end += 1\n",
    "\n",
    "        start = int(start)\n",
    "        last_end = int(last_end)\n",
    "        \n",
    "        part_files_list.append(files_list[start:last_end])\n",
    "\n",
    "    return part_files_list"
   ]
  },
  {
   "cell_type": "code",
   "execution_count": 27,
   "metadata": {},
   "outputs": [],
   "source": [
    "def write_train_file(input_files, output_file):\n",
    "    print(\"Writing to \" + output_file)\n",
    "    with open(output_file, \"w\") as o:\n",
    "        for t in input_files:\n",
    "            with open(t, \"r\") as i:\n",
    "                temp = i.read()\n",
    "                o.write(temp)"
   ]
  },
  {
   "cell_type": "code",
   "execution_count": 25,
   "metadata": {},
   "outputs": [],
   "source": [
    "def create_fold(input_file_dir, fold_num, downSample, splitSelection):\n",
    "    part_files_list = []\n",
    "#     if(splitSelection == 0):\n",
    "#         part_files_list = balancedProjectSplit(input_file_dir, fold_num, '.tokens') #Make test sets a balanced set of projects.\n",
    "#     elif(splitSelection == 1):\n",
    "#         part_files_list = randomProjectSplit(input_file_dir, fold_num, '.tokens') #Make test sets a random set of projects.\n",
    "    if(splitSelection == 2):\n",
    "        part_files_list = random_split(input_file_dir, fold_num, '.tokens') #Use for english corpus\n",
    "#     elif(splitSelection == 3):\n",
    "#         part_files_list =  part_files_list = balancedProjectSplit(input_file_dir, fold_num, '.tokens', False) #Make test sets a balanced set of projects, determined from a non-pickle style format.\n",
    "\n",
    "    #Not used in entropy calculations\n",
    "    method_files_list = random_split(input_file_dir, fold_num, '.scope')\n",
    "\n",
    "    #Create a version that aims to create a balanced split of files (i.e. it downsamples more aggressively\n",
    "    #in the big projects)\n",
    "    if(downSample != 1.0):\n",
    "        #0.Get the total number of files we have.\n",
    "        #1.Get the number of files we need to reduce to.\n",
    "        #2.Sort by size of fold from smallest to biggest, get the smallest.\n",
    "        #3.If 10*This size is bigger than raw reductions across the board, then first reduce all folds to\n",
    "        #this size.  Then downsample the rest evenly...\n",
    "        #If it is smaller, check next biggest and do #2 if bigger, repeat until we find one that satisfies\n",
    "        #Then, we only want to sample down on the bigger ones if 10* the smallest is too small\n",
    "        totalFiles = sum(len(item) for item in part_files_list)\n",
    "        targetSize = int(totalFiles * downSample)\n",
    "        print(\"Total Files: \" + str(totalFiles))\n",
    "        print(\"Target Size: \" + str(targetSize))\n",
    "        part_files_list = sorted(part_files_list, key=lambda x: len(x))\n",
    "        print(\"Start sizes:\")\n",
    "        for p in part_files_list:\n",
    "            print(str(len(p)))\n",
    "\n",
    "        part_files_sampled = []\n",
    "        too_Small_Count = 0\n",
    "        reducedSize = 0\n",
    "        for i in range(0, len(part_files_list)):\n",
    "            smallestSplit = len(part_files_list[i]) * len(part_files_list) #Add modifier for lost space before...\n",
    "\n",
    "            print(\"Smallest Split:\" + str(smallestSplit))\n",
    "\n",
    "            if(smallestSplit > targetSize):\n",
    "                part_files_sampled += part_files_list[:i+1] #This seems to be needed in some cases and not in others???\n",
    "                \n",
    "                #This can can remove too much?  (It's okay as long as its in the same general size.)\n",
    "                part_files_sampled += [selectRandomSubsampleInt(nextFold, len(part_files_list[i])) for nextFold in part_files_list[i+1:]]\n",
    "                reducedSize = len(part_files_list[i])\n",
    "                break\n",
    "            else:\n",
    "                too_Small_Count += 1\n",
    "        \n",
    "        print(\"Mid sizes:\")\n",
    "        for p in part_files_sampled:\n",
    "            print(str(len(p)))\n",
    "        \n",
    "        newSize = sum(len(item) for item in part_files_sampled)\n",
    "        leftToRemove = sum(len(item) for item in part_files_sampled) - targetSize\n",
    "        print(\"New Total Size:\" + str(newSize))\n",
    "        print(\"Left to remove:\" + str(leftToRemove))  \n",
    "        if(leftToRemove > 0):      \n",
    "            #Now, we remove an equal amount of files from each sample that is too big until we reach the % target.\n",
    "            foldReduce = (leftToRemove)/(len(part_files_list) - too_Small_Count)\n",
    "         \n",
    "            #Do we need to add a check to make sure we don't reduce the big ones below our smallest ones? (Only small problem in Ruby....)\n",
    "            part_files_list = part_files_sampled[:too_Small_Count] + [selectRandomSubsampleInt(nextFold, len(nextFold) - foldReduce) for nextFold in part_files_sampled[too_Small_Count:]]\n",
    "        else:\n",
    "            part_files_list = part_files_sampled\n",
    "         \n",
    "        print(\"End sizes:\")\n",
    "        for p in part_files_list:\n",
    "            print(str(len(p)))\n",
    "\n",
    "    for i in range(fold_num):\n",
    "        train_files = []\n",
    "        for j in range(fold_num):\n",
    "            if j != i:\n",
    "                train_files.extend(part_files_list[j])\n",
    "        \n",
    "#         print >> open('%s/fold%d.test' % (input_file_dir, i), 'w'), '\\n'.join(part_files_list[i])\n",
    "#         print >> open('%s/fold%d.scope' % (input_file_dir, i), 'w'), '\\n'.join(method_files_list[i])\n",
    "        #This is a problem.  Should do this manually.\n",
    "        write_train_file(train_files, input_file_dir + \"/fold\" + str(i) + \".train\")\n",
    "        #os.system('cat %s > %s/fold%d.train' % (' '.join(train_files), input_file_dir, i))\n",
    "        #print('cat %s > %s/fold%d.train' % (' '.join(train_files), input_file_dir, i))\n",
    "        #quit()"
   ]
  },
  {
   "cell_type": "markdown",
   "metadata": {},
   "source": [
    "### Train procedure"
   ]
  },
  {
   "cell_type": "code",
   "execution_count": 18,
   "metadata": {},
   "outputs": [],
   "source": [
    "def train(input_file_dir, fold_num, order, downSample, splitSelection, lm_conf):\n",
    "    create_fold(input_file_dir, fold_num, downSample, splitSelection)\n",
    "    \n",
    "    pipes = [os.pipe() for i in range(fold_num)]\n",
    "\n",
    "    \n",
    "    for i in range(fold_num):\n",
    "        pid = os.fork()\n",
    "        if pid == 0:\n",
    "            os.close(pipes[i][0])\n",
    "            \n",
    "            train_file = '%s/fold%d.train' % (input_file_dir, i)\n",
    "\n",
    "            if(lm_conf[0] == \"MITLM\"):\n",
    "                #Get vocab...\n",
    "                print(\"%s -t %s -write-vocab %s.vocab\" % (lm_conf[1], train_file, train_file))\n",
    "                os.system(\"%s -t %s -write-vocab %s.vocab\" % (lm_conf[1], train_file, train_file))\n",
    "                #Alternative uses mitlm instead...\n",
    "                print('%s -order %d -v %s.vocab -unk -smoothing ModKN -t %s -write-lm %s.%dgrams' % (lm_conf[1], order, train_file, train_file, train_file, order))\n",
    "                os.system('%s -order %d -v %s.vocab -unk -smoothing ModKN -t %s -write-lm %s.%dgrams' % (lm_conf[1], order, train_file, train_file, train_file, order))\n",
    "            elif(lm_conf[0] == \"SRILM\"):\n",
    "                #Original Srilm\n",
    "                print('%s -text %s -lm %s.kn.lm.gz -order %d -unk -kndiscount -interpolate' % (lm_conf[1], train_file, train_file, order))\n",
    "                os.system('%s -text %s -lm %s.kn.lm.gz -order %d -unk -kndiscount -interpolate' % (lm_conf[1], train_file, train_file, order))\n",
    "                print('%s -lm %s.kn.lm.gz -unk -order %d -write-lm %s.%dgrams' % (lm_conf[1], train_file, order, train_file, order))\n",
    "                os.system('%s -lm %s.kn.lm.gz -unk -order %d -write-lm %s.%dgrams' % (lm_conf[1], train_file, order, train_file, order))\n",
    "                os.system('rm %s.kn.lm.gz' % train_file)\n",
    "            elif(lm_conf[0] == \"KENLM\"):\n",
    "                #Kenlm\n",
    "                print('%s -o %d -S %s --interpolate_unigrams 0 <%s >%s.%dgrams'% (lm_conf[1], order, \"5%\", train_file, train_file, order))\n",
    "                os.system('%s -o %d -S %s --interpolate_unigrams 0 <%s >%s.%dgrams'% (lm_conf[1], order, \"5%\" ,train_file, train_file, order))\n",
    "            else:\n",
    "                print(\"This is not a recognized language model.\")\n",
    "\n",
    "            sys.exit()\n",
    "        else:\n",
    "            os.close(pipes[i][1])\n",
    "    \n",
    "    for p in pipes:\n",
    "        os.wait()"
   ]
  },
  {
   "cell_type": "code",
   "execution_count": 30,
   "metadata": {},
   "outputs": [
    {
     "name": "stdout",
     "output_type": "stream",
     "text": [
      "Random split.\n",
      "Random split.\n",
      "Writing to naturalness-data/java/fold0.train\n",
      "Writing to naturalness-data/java/fold1.train\n",
      "Writing to naturalness-data/java/fold2.train\n",
      "Writing to naturalness-data/java/fold3.train\n",
      "Writing to naturalness-data/java/fold4.train\n",
      "Writing to naturalness-data/java/fold5.train\n",
      "Writing to naturalness-data/java/fold6.train\n",
      "Writing to naturalness-data/java/fold7.train\n",
      "Writing to naturalness-data/java/fold8.train\n",
      "Writing to naturalness-data/java/fold9.train\n",
      "/Users/kmilo/Dev/extra/kenlm/build/bin/lmplz -o 3 -S 5% --interpolate_unigrams 0 <naturalness-data/java/fold1.train >naturalness-data/java/fold1.train.3grams\n",
      "Writing to naturalness-data/java/fold8.train\n",
      "Writing to naturalness-data/java/fold9.train\n",
      "/Users/kmilo/Dev/extra/kenlm/build/bin/lmplz -o 3 -S 5% --interpolate_unigrams 0 <naturalness-data/java/fold0.train >naturalness-data/java/fold0.train.3grams\n",
      "Writing to naturalness-data/java/fold8.train\n",
      "Writing to naturalness-data/java/fold9.train\n",
      "/Users/kmilo/Dev/extra/kenlm/build/bin/lmplz -o 3 -S 5% --interpolate_unigrams 0 <naturalness-data/java/fold2.train >naturalness-data/java/fold2.train.3grams\n",
      "Writing to naturalness-data/java/fold8.train\n",
      "Writing to naturalness-data/java/fold9.train\n",
      "Writing to naturalness-data/java/fold8.train\n",
      "Writing to naturalness-data/java/fold9.train\n",
      "/Users/kmilo/Dev/extra/kenlm/build/bin/lmplz -o 3 -S 5% --interpolate_unigrams 0 <naturalness-data/java/fold3.train >naturalness-data/java/fold3.train.3grams\n",
      "Writing to naturalness-data/java/fold8.train\n",
      "Writing to naturalness-data/java/fold9.train\n",
      "/Users/kmilo/Dev/extra/kenlm/build/bin/lmplz -o 3 -S 5% --interpolate_unigrams 0 <naturalness-data/java/fold4.train >naturalness-data/java/fold4.train.3grams\n",
      "Writing to naturalness-data/java/fold8.train\n",
      "Writing to naturalness-data/java/fold9.train\n",
      "/Users/kmilo/Dev/extra/kenlm/build/bin/lmplz -o 3 -S 5% --interpolate_unigrams 0 <naturalness-data/java/fold5.train >naturalness-data/java/fold5.train.3grams\n",
      "Writing to naturalness-data/java/fold8.train\n",
      "Writing to naturalness-data/java/fold9.train\n",
      "/Users/kmilo/Dev/extra/kenlm/build/bin/lmplz -o 3 -S 5% --interpolate_unigrams 0 <naturalness-data/java/fold6.train >naturalness-data/java/fold6.train.3grams\n",
      "Writing to naturalness-data/java/fold8.train\n",
      "Writing to naturalness-data/java/fold9.train\n",
      "/Users/kmilo/Dev/extra/kenlm/build/bin/lmplz -o 3 -S 5% --interpolate_unigrams 0 <naturalness-data/java/fold7.train >naturalness-data/java/fold7.train.3grams\n",
      "Writing to naturalness-data/java/fold8.train\n",
      "Writing to naturalness-data/java/fold9.train\n",
      "/Users/kmilo/Dev/extra/kenlm/build/bin/lmplz -o 3 -S 5% --interpolate_unigrams 0 <naturalness-data/java/fold8.train >naturalness-data/java/fold8.train.3grams\n",
      "Writing to naturalness-data/java/fold8.train\n",
      "Writing to naturalness-data/java/fold9.train\n",
      "/Users/kmilo/Dev/extra/kenlm/build/bin/lmplz -o 3 -S 5% --interpolate_unigrams 0 <naturalness-data/java/fold9.train >naturalness-data/java/fold9.train.3grams\n"
     ]
    },
    {
     "ename": "SystemExit",
     "evalue": "",
     "output_type": "error",
     "traceback": [
      "An exception has occurred, use %tb to see the full traceback.\n",
      "\u001b[0;31mSystemExit\u001b[0m\n"
     ]
    },
    {
     "name": "stderr",
     "output_type": "stream",
     "text": [
      "/usr/local/lib/python3.7/site-packages/IPython/core/interactiveshell.py:3275: UserWarning: To exit: use 'exit', 'quit', or Ctrl-D.\n",
      "  warn(\"To exit: use 'exit', 'quit', or Ctrl-D.\", stacklevel=1)\n"
     ]
    },
    {
     "ename": "SystemExit",
     "evalue": "",
     "output_type": "error",
     "traceback": [
      "An exception has occurred, use %tb to see the full traceback.\n",
      "\u001b[0;31mSystemExit\u001b[0m\n"
     ]
    },
    {
     "ename": "SystemExit",
     "evalue": "",
     "output_type": "error",
     "traceback": [
      "An exception has occurred, use %tb to see the full traceback.\n",
      "\u001b[0;31mSystemExit\u001b[0m\n"
     ]
    },
    {
     "ename": "SystemExit",
     "evalue": "",
     "output_type": "error",
     "traceback": [
      "An exception has occurred, use %tb to see the full traceback.\n",
      "\u001b[0;31mSystemExit\u001b[0m\n"
     ]
    },
    {
     "name": "stderr",
     "output_type": "stream",
     "text": [
      "/usr/local/lib/python3.7/site-packages/IPython/core/interactiveshell.py:3275: UserWarning: To exit: use 'exit', 'quit', or Ctrl-D.\n",
      "  warn(\"To exit: use 'exit', 'quit', or Ctrl-D.\", stacklevel=1)\n",
      "/usr/local/lib/python3.7/site-packages/IPython/core/interactiveshell.py:3275: UserWarning: To exit: use 'exit', 'quit', or Ctrl-D.\n",
      "  warn(\"To exit: use 'exit', 'quit', or Ctrl-D.\", stacklevel=1)\n",
      "/usr/local/lib/python3.7/site-packages/IPython/core/interactiveshell.py:3275: UserWarning: To exit: use 'exit', 'quit', or Ctrl-D.\n",
      "  warn(\"To exit: use 'exit', 'quit', or Ctrl-D.\", stacklevel=1)\n"
     ]
    },
    {
     "ename": "SystemExit",
     "evalue": "",
     "output_type": "error",
     "traceback": [
      "An exception has occurred, use %tb to see the full traceback.\n",
      "\u001b[0;31mSystemExit\u001b[0m\n"
     ]
    },
    {
     "ename": "SystemExit",
     "evalue": "",
     "output_type": "error",
     "traceback": [
      "An exception has occurred, use %tb to see the full traceback.\n",
      "\u001b[0;31mSystemExit\u001b[0m\n"
     ]
    },
    {
     "name": "stderr",
     "output_type": "stream",
     "text": [
      "/usr/local/lib/python3.7/site-packages/IPython/core/interactiveshell.py:3275: UserWarning: To exit: use 'exit', 'quit', or Ctrl-D.\n",
      "  warn(\"To exit: use 'exit', 'quit', or Ctrl-D.\", stacklevel=1)\n",
      "/usr/local/lib/python3.7/site-packages/IPython/core/interactiveshell.py:3275: UserWarning: To exit: use 'exit', 'quit', or Ctrl-D.\n",
      "  warn(\"To exit: use 'exit', 'quit', or Ctrl-D.\", stacklevel=1)\n"
     ]
    },
    {
     "ename": "SystemExit",
     "evalue": "",
     "output_type": "error",
     "traceback": [
      "An exception has occurred, use %tb to see the full traceback.\n",
      "\u001b[0;31mSystemExit\u001b[0m\n"
     ]
    },
    {
     "name": "stderr",
     "output_type": "stream",
     "text": [
      "/usr/local/lib/python3.7/site-packages/IPython/core/interactiveshell.py:3275: UserWarning: To exit: use 'exit', 'quit', or Ctrl-D.\n",
      "  warn(\"To exit: use 'exit', 'quit', or Ctrl-D.\", stacklevel=1)\n"
     ]
    },
    {
     "ename": "SystemExit",
     "evalue": "",
     "output_type": "error",
     "traceback": [
      "An exception has occurred, use %tb to see the full traceback.\n",
      "\u001b[0;31mSystemExit\u001b[0m\n"
     ]
    },
    {
     "name": "stderr",
     "output_type": "stream",
     "text": [
      "/usr/local/lib/python3.7/site-packages/IPython/core/interactiveshell.py:3275: UserWarning: To exit: use 'exit', 'quit', or Ctrl-D.\n",
      "  warn(\"To exit: use 'exit', 'quit', or Ctrl-D.\", stacklevel=1)\n"
     ]
    },
    {
     "ename": "SystemExit",
     "evalue": "",
     "output_type": "error",
     "traceback": [
      "An exception has occurred, use %tb to see the full traceback.\n",
      "\u001b[0;31mSystemExit\u001b[0m\n"
     ]
    },
    {
     "ename": "SystemExit",
     "evalue": "",
     "output_type": "error",
     "traceback": [
      "An exception has occurred, use %tb to see the full traceback.\n",
      "\u001b[0;31mSystemExit\u001b[0m\n"
     ]
    },
    {
     "name": "stderr",
     "output_type": "stream",
     "text": [
      "/usr/local/lib/python3.7/site-packages/IPython/core/interactiveshell.py:3275: UserWarning: To exit: use 'exit', 'quit', or Ctrl-D.\n",
      "  warn(\"To exit: use 'exit', 'quit', or Ctrl-D.\", stacklevel=1)\n",
      "/usr/local/lib/python3.7/site-packages/IPython/core/interactiveshell.py:3275: UserWarning: To exit: use 'exit', 'quit', or Ctrl-D.\n",
      "  warn(\"To exit: use 'exit', 'quit', or Ctrl-D.\", stacklevel=1)\n"
     ]
    }
   ],
   "source": [
    "lm_conf = (\"KENLM\", \"/Users/kmilo/Dev/extra/kenlm/build/bin/lmplz\")\n",
    "\n",
    "train(\"naturalness-data/java\", 10, 3, 1.0, 2, lm_conf)"
   ]
  }
 ],
 "metadata": {
  "kernelspec": {
   "display_name": "Python 3",
   "language": "python",
   "name": "python3"
  },
  "language_info": {
   "codemirror_mode": {
    "name": "ipython",
    "version": 3
   },
   "file_extension": ".py",
   "mimetype": "text/x-python",
   "name": "python",
   "nbconvert_exporter": "python",
   "pygments_lexer": "ipython3",
   "version": "3.7.3"
  }
 },
 "nbformat": 4,
 "nbformat_minor": 2
}
